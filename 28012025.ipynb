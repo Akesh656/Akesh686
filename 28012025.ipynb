{
 "cells": [
  {
   "cell_type": "markdown",
   "id": "9819c30e-a39c-4b24-88f2-57611896a87f",
   "metadata": {},
   "source": [
    "# 27012025\n"
   ]
  },
  {
   "cell_type": "code",
   "execution_count": 13,
   "id": "b66a846f-2617-4721-a0ef-fbccd63c64db",
   "metadata": {},
   "outputs": [
    {
     "name": "stdout",
     "output_type": "stream",
     "text": [
      "Original DataFrame: \n",
      "   age  height  weight\n",
      "0   25     135      40\n",
      "1   32     543      34\n",
      "2   42     255      23\n",
      "3   45     253      45\n",
      "4   76     665      24\n",
      "\n",
      "Normalized DataFrame (scaled to range [0,1]):\n",
      "        age    height    weight\n",
      "0  0.000000  0.000000  0.772727\n",
      "1  0.137255  0.769811  0.500000\n",
      "2  0.333333  0.226415  0.000000\n",
      "3  0.392157  0.222642  1.000000\n",
      "4  1.000000  1.000000  0.045455\n",
      "\n",
      "Feature-wise Min values After Scaling:\n",
      "age       0.0\n",
      "height    0.0\n",
      "weight    0.0\n",
      "dtype: float64\n",
      "\n",
      "Feature-wise Max values After Scaling:\n",
      "age       1.0\n",
      "height    1.0\n",
      "weight    1.0\n",
      "dtype: float64\n"
     ]
    }
   ],
   "source": [
    "import pandas as pd \n",
    "from sklearn.preprocessing import MinMaxScaler\n",
    "\n",
    "data = {\n",
    "    \"age\": [25, 32, 42, 45, 76],\n",
    "    \"height\": [135, 543, 255, 253, 665],\n",
    "    \"weight\": [40, 34, 23, 45, 24],\n",
    "}\n",
    "\n",
    "df = pd.DataFrame(data)\n",
    "print(\"Original DataFrame: \")\n",
    "print(df)\n",
    "\n",
    "scaler = MinMaxScaler()\n",
    "normalized_data = scaler.fit_transform(df)\n",
    "normalized_pd = pd.DataFrame(normalized_data, columns=df.columns)\n",
    "\n",
    "print(\"\\nNormalized DataFrame (scaled to range [0,1]):\")\n",
    "print(normalized_pd)\n",
    "\n",
    "print(\"\\nFeature-wise Min values After Scaling:\")\n",
    "print(normalized_pd.min())\n",
    "\n",
    "print(\"\\nFeature-wise Max values After Scaling:\")\n",
    "print(normalized_pd.max())\n"
   ]
  },
  {
   "cell_type": "markdown",
   "id": "3ff44a38-fbef-4da4-b996-d625b85ddf85",
   "metadata": {},
   "source": [
    "# 28012025"
   ]
  },
  {
   "cell_type": "code",
   "execution_count": 6,
   "id": "51952bea-00ca-4d7e-a299-ced00643e334",
   "metadata": {},
   "outputs": [
    {
     "name": "stdout",
     "output_type": "stream",
     "text": [
      "Original DataFrame:\n",
      "   customer_id  gender       city\n",
      "0            1    male        hyb\n",
      "1            2  female       pune\n",
      "2            3  female  bangalore\n",
      "3            4    male     mumbai\n",
      "\n",
      "One-Hot Encoded DataFrame:\n",
      "   customer_id  gender       city  gender_female  gender_male  city_bangalore  \\\n",
      "0            1    male        hyb            0.0          1.0             0.0   \n",
      "1            2  female       pune            1.0          0.0             0.0   \n",
      "2            3  female  bangalore            1.0          0.0             1.0   \n",
      "3            4    male     mumbai            0.0          1.0             0.0   \n",
      "\n",
      "   city_hyb  city_mumbai  city_pune  \n",
      "0       1.0          0.0        0.0  \n",
      "1       0.0          0.0        1.0  \n",
      "2       0.0          0.0        0.0  \n",
      "3       0.0          1.0        0.0  \n"
     ]
    }
   ],
   "source": [
    "import pandas as pd\n",
    "from sklearn.preprocessing import OneHotEncoder\n",
    "\n",
    "# Sample data\n",
    "data = {\n",
    "    \"customer_id\": [1, 2, 3, 4],\n",
    "    \"gender\": [\"male\", \"female\", \"female\", \"male\"],\n",
    "    \"city\": [\"hyb\", \"pune\", \"bangalore\", \"mumbai\"]\n",
    "}\n",
    "df = pd.DataFrame(data)\n",
    "\n",
    "# Display the original DataFrame\n",
    "print(\"Original DataFrame:\")\n",
    "print(df)\n",
    "\n",
    "# Initialize OneHotEncoder\n",
    "one_hot_encoder = OneHotEncoder(sparse_output=False)\n",
    "\n",
    "# Columns to encode\n",
    "columns_to_encode = [\"gender\", \"city\"]\n",
    "\n",
    "# Perform one-hot encoding\n",
    "encoder_data = one_hot_encoder.fit_transform(df[columns_to_encode])\n",
    "\n",
    "# Get feature names for the encoded columns\n",
    "encoder_columns = one_hot_encoder.get_feature_names_out(columns_to_encode)\n",
    "\n",
    "# Create a DataFrame with the encoded values\n",
    "encoder_df = pd.DataFrame(encoder_data, columns=encoder_columns)\n",
    "\n",
    "\n",
    "final_df = pd.concat([df, encoder_df], axis=1)\n",
    "\n",
    "\n",
    "print(\"\\nOne-Hot Encoded DataFrame:\")\n",
    "print(final_df)\n"
   ]
  },
  {
   "cell_type": "code",
   "execution_count": null,
   "id": "02e9badb-c9ac-405c-a9b7-865512d168d7",
   "metadata": {},
   "outputs": [],
   "source": []
  }
 ],
 "metadata": {
  "kernelspec": {
   "display_name": "Python 3 (ipykernel)",
   "language": "python",
   "name": "python3"
  },
  "language_info": {
   "codemirror_mode": {
    "name": "ipython",
    "version": 3
   },
   "file_extension": ".py",
   "mimetype": "text/x-python",
   "name": "python",
   "nbconvert_exporter": "python",
   "pygments_lexer": "ipython3",
   "version": "3.12.4"
  }
 },
 "nbformat": 4,
 "nbformat_minor": 5
}
